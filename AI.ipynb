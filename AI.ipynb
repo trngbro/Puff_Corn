{
  "cells": [
    {
      "cell_type": "markdown",
      "metadata": {
        "id": "view-in-github",
        "colab_type": "text"
      },
      "source": [
        "<a href=\"https://colab.research.google.com/github/trngbro/Puff_Corn/blob/master/AI.ipynb\" target=\"_parent\"><img src=\"https://colab.research.google.com/assets/colab-badge.svg\" alt=\"Open In Colab\"/></a>"
      ]
    },
    {
      "cell_type": "markdown",
      "metadata": {
        "id": "3V8pCQvR6M8r"
      },
      "source": [
        "# **Câu 1 (2.0 điểm): Constraint Satisfaction**"
      ]
    },
    {
      "cell_type": "markdown",
      "source": [
        "## YC1.1: EightQueenSolver()\n",
        "\n",
        "Cài đặt lớp đối tượng ***EightQueenSolver*** để giải quyết bài toán 8 quân Hậu bằng thuật toán ***backtracking***.\n"
      ],
      "metadata": {
        "id": "4CijfXAtDl_d"
      }
    },
    {
      "cell_type": "code",
      "execution_count": null,
      "metadata": {
        "id": "zRh7oRbv64FY"
      },
      "outputs": [],
      "source": [
        "class EightQueenSolver:\n",
        "  # Tạo bảng 8x8 với tất cả các ô có giá trị ban đầu là 0\n",
        "  def __init__(self):\n",
        "    self.board = [['.' for x in range(8)] for y in range(8)]\n",
        "\n",
        "\n",
        "  '''\n",
        "  Gọi phương thức backtracking để giải quyết bài toán\n",
        "  Nếu có giải pháp thì in ra màn hình bằng cách sử dụng phương thức printBoard\n",
        "  Nếu không có giải pháp thì thông báo không tìm thấy giải pháp\n",
        "  '''\n",
        "  def solve(self):\n",
        "    if self.backtracking(0):\n",
        "      self.printBoard()\n",
        "    else:\n",
        "      print(\"Không tìm thấy giải pháp nào.\")\n",
        "\n",
        "  def backtracking(self, col):\n",
        "    # Nếu đã duyệt hết 8 cột thì trả về True, báo hiệu tìm thấy giải pháp\n",
        "    if col == 8:\n",
        "      return True\n",
        "\n",
        "    # Duyệt qua tất cả các hàng trong cột hiện tại\n",
        "    for row in range(8):\n",
        "      # Kiểm tra xem vị trí đó có thể đặt được quân hậu hay không\n",
        "      if self.isValid(row, col):\n",
        "        # Nếu có thể đặt được, đặt quân hậu vào vị trí đó và đệ quy tìm giải pháp cho cột tiếp theo\n",
        "        self.board[row][col] = 'Q'\n",
        "        if self.backtracking(col + 1):\n",
        "          return True\n",
        "        # Nếu không tìm thấy giải pháp cho cột tiếp theo, quay trở lại vị trí cũ và tiếp tục thử các vị trí khác\n",
        "        self.board[row][col] = '.'\n",
        "    # Nếu đã thử tất cả các vị trí trong cột mà không tìm thấy giải pháp, trả về False\n",
        "    return False\n",
        "\n",
        "  def isValid(self, row, col):\n",
        "    # Kiểm tra xem có quân hậu nào trên cùng hàng không\n",
        "    for i in range(col):\n",
        "      if self.board[row][i] == 'Q':\n",
        "        return False\n",
        "\n",
        "    # Kiểm tra xem có quân hậu nào trên đường chéo trái không\n",
        "    for i, j in zip(range(row, -1, -1), range(col, -1, -1)):\n",
        "      if self.board[i][j] == 'Q':\n",
        "        return False\n",
        "\n",
        "    # Kiểm tra xem có quân hậu nào trên đường chéo phải không\n",
        "    for i, j in zip(range(row, 8, 1), range(col, -1, -1)):\n",
        "      if self.board[i][j] == 'Q':\n",
        "        return False\n",
        "    # nếu không bị xung đột với các quân hậu đã đặt trước đó thì trả về True\n",
        "    return True  \n",
        "      \n",
        "\n",
        "  def printBoard(self):\n",
        "    for i in range(8):\n",
        "      for j in range(8):\n",
        "        print(self.board[i][j], end = \" \")\n",
        "      print() "
      ]
    },
    {
      "cell_type": "markdown",
      "metadata": {
        "id": "fKr4_ftE9yYq"
      },
      "source": [
        "**Lớp kiểm thử sử dụng cho EightQueenSolver:**\n",
        "\n",
        "*   ***B1***: Khởi tạo đối tượng `EightQueenSolver`\n",
        "\n",
        "*   ***B2***: *(Mở rộng)* Dùng `self.printBoard()` để xem bàn cờ đã khởi tạo\n",
        "\n",
        "*   ***B3***: Sử dụng self.solve() để xử lý bàn cờ vừa mới khởi tạo"
      ]
    },
    {
      "cell_type": "code",
      "execution_count": null,
      "metadata": {
        "colab": {
          "base_uri": "https://localhost:8080/"
        },
        "id": "jvqIAw_B92dH",
        "outputId": "9f116c21-7840-4b11-a5ad-12c18213099f"
      },
      "outputs": [
        {
          "output_type": "stream",
          "name": "stdout",
          "text": [
            "Bàn cờ trống 8x8, sau khi khởi tạo:\n",
            "\n",
            ". . . . . . . . \n",
            ". . . . . . . . \n",
            ". . . . . . . . \n",
            ". . . . . . . . \n",
            ". . . . . . . . \n",
            ". . . . . . . . \n",
            ". . . . . . . . \n",
            ". . . . . . . . \n",
            "\n",
            "\n",
            "\n",
            "Bàn cờ sau khi xử lý\n",
            "Q . . . . . . . \n",
            ". . . . . . Q . \n",
            ". . . . Q . . . \n",
            ". . . . . . . Q \n",
            ". Q . . . . . . \n",
            ". . . Q . . . . \n",
            ". . . . . Q . . \n",
            ". . Q . . . . . \n"
          ]
        }
      ],
      "source": [
        "# Khởi tạo đối tượng EightQueenSolver là solver\n",
        "solver = EightQueenSolver()\n",
        "print(\"Bàn cờ trống 8x8, sau khi khởi tạo:\\n\")\n",
        "solver.printBoard()\n",
        "\n",
        "# Xử lý bàn cờ, sử dụng backtracking (dựa vào thuật toán backtracking ở lesson 05 - Constraint Satisfaction/ trang 16):\n",
        "print(\"\\n\\n\\nBàn cờ sau khi xử lý\")\n",
        "solver.solve()"
      ]
    },
    {
      "cell_type": "markdown",
      "source": [
        "## YC1.2: NQueenSolver()\n",
        "\n",
        "Cài đặt lớp đối tượng ***NQueenSolver*** để giải quyết bài toán n quân Hậu bằng thuật toán ***backtracking*** trong trường hợp tổng quát với N là kích thước của bàn cờ (N dòng, N cột)."
      ],
      "metadata": {
        "id": "-1HD_BnKDtzU"
      }
    },
    {
      "cell_type": "code",
      "source": [
        "class NQueenSolver:\n",
        "  def __init__(self, N: int):\n",
        "    self.N = N\n",
        "    self.board = [['.' for x in range(N)] for x in range(N)]\n",
        "\n",
        "  def solve(self) -> None:\n",
        "    if self.backtracking(0):\n",
        "      for row in self.board:\n",
        "        print(' '.join(row))\n",
        "    else:\n",
        "      print('UNSOLVABLE')\n",
        "\n",
        "  def backtracking(self, col: int):\n",
        "    if col == self.N:\n",
        "      return True\n",
        "    for row in range(self.N):\n",
        "        if self.isValid(row, col):\n",
        "          self.board[row][col] = 'Q'\n",
        "          if self.backtracking(col + 1):\n",
        "            return True\n",
        "          self.board[row][col] = '.'\n",
        "    return False\n",
        "\n",
        "  def isValid(self, row: int, col: int):\n",
        "    for c in range(col):\n",
        "      if self.board[row][c] == 'Q':\n",
        "        return False\n",
        "\n",
        "    for r, c in zip(range(row, -1, -1), range(col, -1, -1)):\n",
        "      if self.board[r][c] == 'Q':\n",
        "        return False\n",
        "\n",
        "    for r, c in zip(range(row, self.N), range(col, -1, -1)):\n",
        "      if self.board[r][c] == 'Q':\n",
        "        return False\n",
        "\n",
        "    return True\n",
        "  def printBoard(self):\n",
        "    for i in range(self.N):\n",
        "      for j in range(self.N):\n",
        "        print(self.board[i][j], end = \" \")\n",
        "      print() "
      ],
      "metadata": {
        "id": "EN5zqacbEKbK"
      },
      "execution_count": null,
      "outputs": []
    },
    {
      "cell_type": "markdown",
      "source": [
        "**Lớp kiểm thử sử dụng cho NQueenSolver:**\n",
        "\n",
        "*   ***B1***: Khởi tạo đối tượng `NQueenSolver`\n",
        "\n",
        "*   ***B2***: *(Mở rộng)* Dùng `self.printBoard()` để xem bàn cờ đã khởi tạo\n",
        "\n",
        "*   ***B3***: Sử dụng self.solve() để xử lý bàn cờ vừa mới khởi tạo"
      ],
      "metadata": {
        "id": "cl8WkAX8KGNe"
      }
    },
    {
      "cell_type": "code",
      "source": [
        "# Khởi tạo đối tượng NQueenSolver là solver\n",
        "solver = NQueenSolver(24)\n",
        "print(\"Bàn cờ trống NxN, sau khi khởi tạo:\")\n",
        "solver.printBoard()\n",
        "\n",
        "# Xử lý bàn cờ, sử dụng backtracking (dựa vào thuật toán backtracking ở lesson 05 - Constraint Satisfaction/ trang 16):\n",
        "print(\"\\n\\n\\nBàn cờ sau khi xử lý\")\n",
        "solver.solve()"
      ],
      "metadata": {
        "colab": {
          "base_uri": "https://localhost:8080/"
        },
        "id": "qblSqgewF5Dj",
        "outputId": "c295f3a4-2399-4c18-9504-90ae5e7a66d9"
      },
      "execution_count": null,
      "outputs": [
        {
          "output_type": "stream",
          "name": "stdout",
          "text": [
            "Bàn cờ trống NxN, sau khi khởi tạo:\n",
            ". . . . . . . . . . . . . . . . . . . . . . . . \n",
            ". . . . . . . . . . . . . . . . . . . . . . . . \n",
            ". . . . . . . . . . . . . . . . . . . . . . . . \n",
            ". . . . . . . . . . . . . . . . . . . . . . . . \n",
            ". . . . . . . . . . . . . . . . . . . . . . . . \n",
            ". . . . . . . . . . . . . . . . . . . . . . . . \n",
            ". . . . . . . . . . . . . . . . . . . . . . . . \n",
            ". . . . . . . . . . . . . . . . . . . . . . . . \n",
            ". . . . . . . . . . . . . . . . . . . . . . . . \n",
            ". . . . . . . . . . . . . . . . . . . . . . . . \n",
            ". . . . . . . . . . . . . . . . . . . . . . . . \n",
            ". . . . . . . . . . . . . . . . . . . . . . . . \n",
            ". . . . . . . . . . . . . . . . . . . . . . . . \n",
            ". . . . . . . . . . . . . . . . . . . . . . . . \n",
            ". . . . . . . . . . . . . . . . . . . . . . . . \n",
            ". . . . . . . . . . . . . . . . . . . . . . . . \n",
            ". . . . . . . . . . . . . . . . . . . . . . . . \n",
            ". . . . . . . . . . . . . . . . . . . . . . . . \n",
            ". . . . . . . . . . . . . . . . . . . . . . . . \n",
            ". . . . . . . . . . . . . . . . . . . . . . . . \n",
            ". . . . . . . . . . . . . . . . . . . . . . . . \n",
            ". . . . . . . . . . . . . . . . . . . . . . . . \n",
            ". . . . . . . . . . . . . . . . . . . . . . . . \n",
            ". . . . . . . . . . . . . . . . . . . . . . . . \n",
            "\n",
            "\n",
            "\n",
            "Bàn cờ sau khi xử lý\n",
            "Q . . . . . . . . . . . . . . . . . . . . . . .\n",
            ". . . Q . . . . . . . . . . . . . . . . . . . .\n",
            ". Q . . . . . . . . . . . . . . . . . . . . . .\n",
            ". . . . Q . . . . . . . . . . . . . . . . . . .\n",
            ". . Q . . . . . . . . . . . . . . . . . . . . .\n",
            ". . . . . . . . . . . . . . . . Q . . . . . . .\n",
            ". . . . . . . . . . . . . . . . . . . . . Q . .\n",
            ". . . . . . . . . . . . . . . . . Q . . . . . .\n",
            ". . . . . Q . . . . . . . . . . . . . . . . . .\n",
            ". . . . . . . . . . . . . . Q . . . . . . . . .\n",
            ". . . . . . Q . . . . . . . . . . . . . . . . .\n",
            ". . . . . . . . . . . . . . . . . . Q . . . . .\n",
            ". . . . . . . . . . . . . . . . . . . . Q . . .\n",
            ". . . . . . . Q . . . . . . . . . . . . . . . .\n",
            ". . . . . . . . . . . . . . . . . . . . . . . Q\n",
            ". . . . . . . . . . . . . . . . . . . Q . . . .\n",
            ". . . . . . . . . . . . . . . . . . . . . . Q .\n",
            ". . . . . . . . Q . . . . . . . . . . . . . . .\n",
            ". . . . . . . . . . Q . . . . . . . . . . . . .\n",
            ". . . . . . . . . . . . Q . . . . . . . . . . .\n",
            ". . . . . . . . . . . . . . . Q . . . . . . . .\n",
            ". . . . . . . . . Q . . . . . . . . . . . . . .\n",
            ". . . . . . . . . . . Q . . . . . . . . . . . .\n",
            ". . . . . . . . . . . . . Q . . . . . . . . . .\n"
          ]
        }
      ]
    },
    {
      "cell_type": "markdown",
      "source": [
        "# Câu 2 (2.0 điểm): Adversarial Search"
      ],
      "metadata": {
        "id": "j60hUBmADfdO"
      }
    },
    {
      "cell_type": "markdown",
      "source": [
        "Chạy đoạn mã dưới đây, ngay sau khi xuất hiện **Choose Files** thì lập tức bấm vào và chọn file txt input để chạy thuật toán. Sau quá trình tải lên *(đạt 100% trạng thái)* thì sẽ xuất ra màn hình thông tin file tải lên. Kiểm tra và chắc chắn là tải lên đúng file.\n",
        "\n",
        "Cũng có thể kiểm tra rằng file đã tải lên hay chưa bằng cách kiểm tra có file minimax.txt tồn tại ở folder colab hay chưa (hình minh hoạ đính kèm).\n",
        "\n",
        "\n",
        "\n",
        "\n",
        "\n",
        "![sc.png](data:image/png;base64,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)\n",
        "\n"
      ],
      "metadata": {
        "id": "1NJZecLGYkQu"
      }
    },
    {
      "cell_type": "code",
      "source": [
        "import os.path\n",
        "from google.colab import files\n",
        "\n",
        "if not (os.path.isfile(\"minimax.txt\")):\n",
        "  uploaded = files.upload()\n",
        "  file_name = \"minimax.txt\"\n",
        "with open('minimax.txt', 'r') as f:\n",
        "  data = f.readlines()\n",
        "  print(\"Các dòng đầu của file:\")\n",
        "  for line in data[:8]:\n",
        "      print(line)"
      ],
      "metadata": {
        "colab": {
          "base_uri": "https://localhost:8080/"
        },
        "id": "D2xcaueDYD8J",
        "outputId": "858a0e42-59ac-4f2f-8928-9b1eb697a493"
      },
      "execution_count": null,
      "outputs": [
        {
          "output_type": "stream",
          "name": "stdout",
          "text": [
            "Các dòng đầu của file:\n",
            "19 8\n",
            "\n",
            "n1 n2\n",
            "\n",
            "n1 n3\n",
            "\n",
            "n1 n4\n",
            "\n",
            "n2 n5\n",
            "\n",
            "n2 n6\n",
            "\n",
            "n3 n7\n",
            "\n",
            "n3 n8\n",
            "\n"
          ]
        }
      ]
    },
    {
      "cell_type": "markdown",
      "source": [
        "## YC2.1 Cài đặt hai lớp theo mô tả\n"
      ],
      "metadata": {
        "id": "J0TP03NlA2I-"
      }
    },
    {
      "cell_type": "markdown",
      "source": [
        "Phương thức **`print_tree`** được sử dụng để in cây Minimax theo định dạng bắt đầu từ nút gốc và tiếp tục xuống các nút con theo độ sâu của cây.\n",
        "\n",
        "\n",
        "Phương thức **`read`** được sử dụng để đọc tệp đầu vào chứa các nút và kết nối giữa chúng. Đầu tiên, nó đọc số lượng cặp nút và kết nối từ tệp đầu vào và tạo các nút tương ứng cho chúng. Sau đó, nó đọc các nút cuối cùng và giá trị tương ứng của chúng. Cuối cùng, nó thiết lập nút gốc, tập các nút cuối cùng và giá trị tương ứng và danh sách kế tiếp của mỗi nút.\n",
        "\n",
        "\n",
        "Phương thức **`minimax`** là thuật toán Minimax, nó thực hiện tính toán Minimax Decision của một nút. Nếu nút đó là nút cuối cùng, giá trị của nó sẽ được trả về. Nếu nút là nút max, giá trị lớn nhất của các nút con sẽ được chọn. Nếu nút là nút min, giá trị nhỏ nhất của các nút con sẽ được chọn.\n",
        "\n",
        "\n",
        "Phương thức **`run`** sử dụng thuật toán Minimax để tính toán Minimax Decision cho mỗi nút trong cây và trả về một từ điển kết quả, với các khóa là các identifier của các nút và các giá trị tương ứng là Minimax Decision của các nút đó."
      ],
      "metadata": {
        "id": "yoyDE1Sd6yWn"
      }
    },
    {
      "cell_type": "code",
      "source": [
        "class Node:\n",
        "    def __init__(self, identifier, value=None):\n",
        "        self.identifier = identifier  \n",
        "        self.value = value\n",
        "        self.successors = []    # Danh sách các Node kế tiếp\n",
        "\n",
        "    def __str__(self):\n",
        "        return f\"({self.identifier}, {self.value})\"\n",
        "\n",
        "class MinimaxDecision:\n",
        "    def __init__(self, root=None, terminalStates=None, successors=None):\n",
        "        self.root = root\n",
        "        self.terminalStates = terminalStates\n",
        "        self.successors = successors\n",
        "\n",
        "    def print_tree(self, node, level=0):\n",
        "        print(\"\\t\" * level, node)\n",
        "        for succ in node.successors:\n",
        "            self.print_tree(succ, level+1)\n",
        "\n",
        "    # Đọc từng cặp node và node kế tiếp và tạo các node\n",
        "    def read(self, filename):\n",
        "        with open(filename, \"r\") as f:\n",
        "            e, l = map(int, f.readline().split())\n",
        "            nodes_dict = {}\n",
        "            for i in range(e):\n",
        "                a, b = f.readline().split()\n",
        "                if a not in nodes_dict:\n",
        "                    nodes_dict[a] = Node(a)\n",
        "                if b not in nodes_dict:\n",
        "                    nodes_dict[b] = Node(b)\n",
        "                nodes_dict[a].successors.append(nodes_dict[b])\n",
        "            # Đọc terminal node và giá trị tương ứng\n",
        "            for i in range(l):\n",
        "                node, value = f.readline().split()\n",
        "                nodes_dict[node].value = int(value)\n",
        "        self.root = nodes_dict[\"n00\"]   # Thiết lập node gốc\n",
        "        self.terminalStates = {n.identifier: n.value for n in nodes_dict.values() if not n.successors}\n",
        "        self.successors = {n: n.successors for n in nodes_dict.values()}\n",
        "\n",
        "    def minimax(self, node, maximizingPlayer):\n",
        "        # Nếu đang là terminal node thì trả về nó\n",
        "        if node.identifier in self.terminalStates:\n",
        "            return self.terminalStates[node.identifier]\n",
        "        # Nếu node là node max, chọn giá trị lớn nhất của các node con\n",
        "        elif maximizingPlayer:\n",
        "            maxEval = float('-inf')\n",
        "            for child in self.successors[node]:\n",
        "                eval = self.minimax(child, False)\n",
        "                maxEval = max(maxEval, eval)\n",
        "            return maxEval\n",
        "        # Nếu node là node min, chọn giá trị nhỏ nhất của các node con\n",
        "        else:\n",
        "            minEval = float('inf')\n",
        "            for child in self.successors[node]:\n",
        "                eval = self.minimax(child, True)\n",
        "                minEval = min(minEval, eval)\n",
        "            return minEval\n",
        "\n",
        "    def run(self):\n",
        "        result = {}\n",
        "        for node in self.successors:\n",
        "            result[node.identifier] = self.minimax(node, False)\n",
        "        return result\n"
      ],
      "metadata": {
        "id": "7AQaGkUqgVzq"
      },
      "execution_count": null,
      "outputs": []
    },
    {
      "cell_type": "markdown",
      "source": [
        "**Lớp kiểm thử sử dụng cho MinimaxDecision:**\n",
        "\n",
        "*   ***B1***: Khởi tạo đối tượng `MinimaxDecision`\n",
        "\n",
        "*   ***B2***: Dùng `self.read(*/truyền vào đường dẫn/*)` để đọc input\n",
        "\n",
        "*   ***B3***: Sử dụng self.run() để chạy giải thuật Minimax Decision\n",
        "\n",
        "*   ***B3***: Sử dụng self.print_tree() để vẽ cây"
      ],
      "metadata": {
        "id": "FtIjo_xz9BIM"
      }
    },
    {
      "cell_type": "markdown",
      "source": [
        "## YC2.2 Cài đặt hàm print()\n"
      ],
      "metadata": {
        "id": "PdgySr8IAm-E"
      }
    },
    {
      "cell_type": "code",
      "source": [
        "# Tạo đối tượng MinimaxDecision\n",
        "decision = MinimaxDecision()\n",
        "\n",
        "# Dùng self.read(file) để đọc dữ liệu từ file lên cho đối tượng vừa khởi tạo\n",
        "decision.read(\"minimax.txt\")\n",
        "\n",
        "# In cây\n",
        "decision.print_tree(decision.root)"
      ],
      "metadata": {
        "colab": {
          "base_uri": "https://localhost:8080/"
        },
        "id": "mlACpD4dBESn",
        "outputId": "f1d3fd19-a6d6-4680-db17-f94107678101"
      },
      "execution_count": null,
      "outputs": [
        {
          "output_type": "stream",
          "name": "stdout",
          "text": [
            " (n00, None)\n",
            "\t (n10, None)\n",
            "\t\t (n20, None)\n",
            "\t\t\t (n30, None)\n",
            "\t\t\t\t (n41, 4)\n",
            "\t\t\t\t (n42, 3)\n",
            "\t\t\t\t (n43, 5)\n",
            "\t\t\t (n31, None)\n",
            "\t\t\t\t (n44, 2)\n",
            "\t\t\t\t (n45, 1)\n",
            "\t\t (n21, None)\n",
            "\t\t\t (n32, None)\n",
            "\t\t\t\t (n46, 4)\n",
            "\t\t\t\t (n47, 2)\n",
            "\t\t\t\t (n48, 3)\n",
            "\t\t (n22, None)\n",
            "\t\t\t (n33, None)\n",
            "\t\t\t\t (n49, 5)\n",
            "\t\t\t\t (n410, 4)\n",
            "\t\t\t (n34, None)\n",
            "\t\t\t\t (n411, 7)\n",
            "\t\t\t (n35, None)\n",
            "\t\t\t\t (n412, 3)\n",
            "\t\t\t\t (n413, 2)\n",
            "\t (n11, None)\n",
            "\t\t (n23, None)\n",
            "\t\t\t (n36, None)\n",
            "\t\t\t\t (n414, 1)\n",
            "\t\t\t\t (n415, 4)\n",
            "\t\t\t\t (n416, 0)\n",
            "\t\t (n24, None)\n",
            "\t\t\t (n37, None)\n",
            "\t\t\t\t (n417, 5)\n",
            "\t\t\t\t (n418, 3)\n",
            "\t\t\t (n38, None)\n",
            "\t\t\t\t (n419, 0)\n",
            "\t\t (n25, None)\n",
            "\t\t\t (n39, None)\n",
            "\t\t\t\t (n420, 2)\n",
            "\t\t\t\t (n421, 7)\n",
            "\t\t\t\t (n422, 4)\n",
            "\t\t\t (n310, None)\n",
            "\t\t\t\t (n423, 3)\n",
            "\t\t\t\t (n424, 6)\n",
            "\t\t\t (n311, None)\n",
            "\t\t\t\t (n425, 5)\n",
            "\t\t\t\t (n426, 3)\n",
            "\t\t\t\t (n427, 1)\n"
          ]
        }
      ]
    },
    {
      "cell_type": "markdown",
      "source": [
        "## YC2.1 Cài đặt hàm run()\n"
      ],
      "metadata": {
        "id": "vVTwWV4NBT5G"
      }
    },
    {
      "cell_type": "code",
      "source": [
        "import json\n",
        "\n",
        "# Tạo đối tượng MinimaxDecision\n",
        "decision = MinimaxDecision()\n",
        "\n",
        "# Dùng self.read(file) để đọc dữ liệu từ file lên cho đối tượng vừa khởi tạo\n",
        "decision.read(\"minimax.txt\")\n",
        "\n",
        "# Dùng self.run() để thực hiện thuật toán Minimax Decision\n",
        "result = decision.run()\n",
        "\n",
        "# Dùng thêm JSON để hiển thị kết quả được đẹp hơn có thể thay thế bằng print(result)\n",
        "print(\"Kết quả thực hiện thuật toán:\")\n",
        "print(json.dumps(result, sort_keys=False, indent=4))\n",
        "\n",
        "# Nếu muốn truy xuất vào một kết quả cụ thể thì cập nhật giá trị biến dưới đây\n",
        "NODE_ID_MINIMACDECISION = \"n00\"\n",
        "print(\"\\n\\n\\n\\nXem chi tiết:\")\n",
        "print(\"MinimaxDecision cho\", NODE_ID_MINIMACDECISION, \"là\" , result[NODE_ID_MINIMACDECISION])\n"
      ],
      "metadata": {
        "colab": {
          "base_uri": "https://localhost:8080/"
        },
        "id": "92Xq10xtitLx",
        "outputId": "9f88d07d-3825-4a6c-971b-5f0dbc6b9c1c"
      },
      "execution_count": null,
      "outputs": [
        {
          "output_type": "stream",
          "name": "stdout",
          "text": [
            "Kết quả thực hiện thuật toán:\n",
            "{\n",
            "    \"n00\": 4,\n",
            "    \"n10\": 2,\n",
            "    \"n11\": 0,\n",
            "    \"n20\": 2,\n",
            "    \"n21\": 4,\n",
            "    \"n22\": 3,\n",
            "    \"n23\": 4,\n",
            "    \"n24\": 0,\n",
            "    \"n25\": 5,\n",
            "    \"n30\": 3,\n",
            "    \"n31\": 1,\n",
            "    \"n32\": 2,\n",
            "    \"n33\": 4,\n",
            "    \"n34\": 7,\n",
            "    \"n35\": 2,\n",
            "    \"n36\": 0,\n",
            "    \"n37\": 3,\n",
            "    \"n38\": 0,\n",
            "    \"n39\": 2,\n",
            "    \"n310\": 3,\n",
            "    \"n311\": 1,\n",
            "    \"n41\": 4,\n",
            "    \"n42\": 3,\n",
            "    \"n43\": 5,\n",
            "    \"n44\": 2,\n",
            "    \"n45\": 1,\n",
            "    \"n46\": 4,\n",
            "    \"n47\": 2,\n",
            "    \"n48\": 3,\n",
            "    \"n49\": 5,\n",
            "    \"n410\": 4,\n",
            "    \"n411\": 7,\n",
            "    \"n412\": 3,\n",
            "    \"n413\": 2,\n",
            "    \"n414\": 1,\n",
            "    \"n415\": 4,\n",
            "    \"n416\": 0,\n",
            "    \"n417\": 5,\n",
            "    \"n418\": 3,\n",
            "    \"n419\": 0,\n",
            "    \"n420\": 2,\n",
            "    \"n421\": 7,\n",
            "    \"n422\": 4,\n",
            "    \"n423\": 3,\n",
            "    \"n424\": 6,\n",
            "    \"n425\": 5,\n",
            "    \"n426\": 3,\n",
            "    \"n427\": 1\n",
            "}\n",
            "\n",
            "\n",
            "\n",
            "\n",
            "Xem chi tiết:\n",
            "MinimaxDecision cho n00 là 4\n"
          ]
        }
      ]
    },
    {
      "cell_type": "markdown",
      "source": [
        "# Câu 3 (2.0 điểm): Logical Agents"
      ],
      "metadata": {
        "id": "iFq2xJ-HBfwk"
      }
    },
    {
      "cell_type": "code",
      "source": [],
      "metadata": {
        "id": "Z-AzCMdy5PsI"
      },
      "execution_count": null,
      "outputs": []
    }
  ],
  "metadata": {
    "colab": {
      "provenance": [],
      "toc_visible": true,
      "authorship_tag": "ABX9TyM+hrEIu+h2Nwqx2CcmZYTr",
      "include_colab_link": true
    },
    "kernelspec": {
      "display_name": "Python 3",
      "name": "python3"
    },
    "language_info": {
      "name": "python"
    }
  },
  "nbformat": 4,
  "nbformat_minor": 0
}